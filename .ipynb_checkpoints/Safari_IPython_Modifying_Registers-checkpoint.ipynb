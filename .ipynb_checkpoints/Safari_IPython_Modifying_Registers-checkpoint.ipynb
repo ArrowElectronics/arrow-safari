{
 "cells": [
  {
   "cell_type": "markdown",
   "metadata": {},
   "source": [
    "<p float=\"left\">\n",
    "  <img src=\"images/arrow_logo.jpg\" alt=\"Arrow Logo\" width=\"200\" height=\"100\" align=\"left\"/>\n",
    "  <img src=\"images/adi_logo.png\" alt=\"ADI Logo\" width=\"200\" height=\"100\" align=\"right\"/>\n",
    "</p>"
   ]
  },
  {
   "cell_type": "markdown",
   "metadata": {},
   "source": [
    "<hr style=\"height:5px; text-align:bottom\">\n",
    "\n",
    "##### A. First we need to import the Serial and Data modules required for the demo. We will also set the Matplotlib backend to provide a pop-up window for our data plots"
   ]
  },
  {
   "cell_type": "code",
   "execution_count": null,
   "metadata": {},
   "outputs": [],
   "source": [
    "from safari_serial import Serial\n",
    "from safari_data import Data\n",
    "\n",
    "# Set the TkAgg backend for matplotlib\n",
    "%matplotlib tk"
   ]
  },
  {
   "cell_type": "markdown",
   "metadata": {},
   "source": [
    "#### B. In order to share data between the Serial and Data modules, we will use a dictionary to store data and settings and then initialize the classes with this dictionary. The dictionary created below contains a nested dictionary for each enabled channel. For each enabled channel, we need to initialize some default settings such as plot title and color."
   ]
  },
  {
   "cell_type": "code",
   "execution_count": null,
   "metadata": {},
   "outputs": [],
   "source": [
    "# Create a dictionary containing all of the enabled channels\n",
    "channels = {\"0\":{}, \"4\":{}, \"6\":{}}\n",
    "\n",
    "#default fields for each channel\n",
    "for channel in channels:\n",
    "    # Number of elements to plot\n",
    "    channels[channel][\"max_elements\"] = 300\n",
    "    # Array for storing timestamps of when data was received\n",
    "    channels[channel][\"timestamps\"]=[]\n",
    "    # Array for storing channel voltages\n",
    "    channels[channel][\"voltages\"]=[]\n",
    "    # Array for storing the converted sensor values i.e. Temperature (deg. C) or Acceleration (G's)\n",
    "    channels[channel][\"values\"]=[]\n",
    "    # The axis object used for plotting. Each channel will get its own axis\n",
    "    channels[channel][\"axis\"] = None\n",
    "    # The annotation object used for displaying key values such as average, min, and max values for each channel\n",
    "    channels[channel][\"annotation\"] = None\n",
    "    # Boolean indicating if the annotation is visible. Default value is false since there are initially no values to annotate\n",
    "    channels[channel][\"annotation_visible\"] = False\n",
    "    # Text displayed by the annotation\n",
    "    channels[channel][\"annotation_text\"] = \"\"\n",
    "    # Line object used for the annotation\n",
    "    channels[channel][\"line\"] = None\n",
    "    # X-Y coordinates of the annotation box\n",
    "    channels[channel][\"annot_ax_xy\"] = None\n",
    "    # Color of the plot, default value is Black ('k')\n",
    "    channels[channel][\"axes_color\"] = 'k'\n",
    "    # Title of the plot\n",
    "    channels[channel][\"plot_title\"] = f\"Channel {channel}\"\n",
    "    # Y label of the plot when the voltages are displayed\n",
    "    channels[channel][\"y_label\"] = \"\"\n",
    "    # Y label of of the plot when values are displayed\n",
    "    channels[channel][\"y_label_converted\"] = \"\"\n",
    "    # Function for formatting voltage to plot, if None is specified, default operation is rounding voltage\n",
    "    # to 4 decimal places: round(float(voltage), 4)\n",
    "    channels[channel][\"voltage_format_func\"] = None\n",
    "    # Function for converting voltage to a sensor value for plotting, if None is specified, default operation is \n",
    "    # rounding voltage to 4 decimal places: round(float(voltage), 4)\n",
    "    channels[channel][\"value_conversion_func\"] = None"
   ]
  },
  {
   "cell_type": "markdown",
   "metadata": {},
   "source": [
    "##### C. The next thing we need to do is create functions to format the voltages for plotting. For example, the channel 4 voltage will be represented in millivolts so we will multiply the received voltage by 1000. The voltages for channels 0 and 6 will simply be rounded to 4 decimal places."
   ]
  },
  {
   "cell_type": "code",
   "execution_count": null,
   "metadata": {},
   "outputs": [],
   "source": [
    "# Since we don't need to modify the default operation for formatting voltage on Channel 0 or Channel 6 (rounding to 4 decimals),\n",
    "# we only need to create a format function for Channel 4 since it will be displayed in millivolts rather than volts\n",
    "\n",
    "# Function for formatting channel 4 voltage for plotting\n",
    "def convert_channel_4_voltage(voltage):\n",
    "    return round(float(voltage) * 1000, 4)"
   ]
  },
  {
   "cell_type": "markdown",
   "metadata": {},
   "source": [
    "#### D. In addition to functions for formatting voltages, we need to create functions to convert the voltages from the sensors into actual units."
   ]
  },
  {
   "cell_type": "code",
   "execution_count": null,
   "metadata": {},
   "outputs": [],
   "source": [
    "# Function for converting channel 0 voltage to an accelerometer value\n",
    "def convert_accelerometer(voltage, code):\n",
    "    del code\n",
    "    \n",
    "    vcc = 3.3\n",
    "    return round((voltage - vcc / 2) * 1 / 0.640, 3)\n",
    "\n",
    "# Function for converting channel 4 code to a temperature value\n",
    "def convert_temperature(voltage, code):\n",
    "    del voltage\n",
    "    \n",
    "    r_rtd = (code * 5110) / ((2**24) * 16)\n",
    "    temp = (r_rtd - 100) / 0.385\n",
    "    return round(temp, 2)\n",
    "\n",
    "# Function for converting channel 6 voltage to a pressure value\n",
    "def convert_pressure(voltage, code):\n",
    "    del code\n",
    "    \n",
    "    vcc = 3.3\n",
    "    r1 = 132000\n",
    "    r2 = 100000\n",
    "    return round(((190.0 * voltage * (r1/r2)) / vcc - 38), 3)"
   ]
  },
  {
   "cell_type": "markdown",
   "metadata": {},
   "source": [
    "#### E. Now we need to customize each channel with our desired settings. This includes things such as plot and axis titles as well as setting the conversion functions we defined above."
   ]
  },
  {
   "cell_type": "code",
   "execution_count": null,
   "metadata": {},
   "outputs": [],
   "source": [
    "# Configure Channel 0\n",
    "channels[\"0\"][\"axes_color\"] = 'tab:blue'\n",
    "channels[\"0\"][\"plot_title\"] = \"Channel 0\"\n",
    "channels[\"0\"][\"y_label\"] = 'Voltage (V)'\n",
    "channels[\"0\"][\"y_label_converted\"] = 'Accel. (g)'\n",
    "channels[\"0\"][\"value_conversion_func\"] = convert_accelerometer\n",
    "\n",
    "# Configure Channel 4\n",
    "channels[\"4\"][\"axes_color\"] = 'tab:red'\n",
    "channels[\"4\"][\"plot_title\"] = \"Channel 4\"\n",
    "channels[\"4\"][\"y_label\"] = 'Voltage (mV)'\n",
    "channels[\"4\"][\"y_label_converted\"] = 'Temp. (deg C)'\n",
    "channels[\"4\"][\"voltage_format_func\"] = convert_channel_4_voltage\n",
    "channels[\"4\"][\"value_conversion_func\"] = convert_temperature\n",
    "\n",
    "# Configure Channel 6\n",
    "channels[\"6\"][\"axes_color\"] = 'tab:green'\n",
    "channels[\"6\"][\"plot_title\"] = \"Channel 6\"\n",
    "channels[\"6\"][\"y_label\"] = 'Voltage (V)'\n",
    "channels[\"6\"][\"y_label_converted\"] = 'Pressure (Pa)'\n",
    "channels[\"6\"][\"value_conversion_func\"] = convert_pressure"
   ]
  },
  {
   "cell_type": "markdown",
   "metadata": {},
   "source": [
    "#### F. Finally we simply initialize the Serial and Data class objects with the 'channels' dictionary created previously along with the desired configuration file. When the Serial class object is initialized, button widgets will be created allowing you to connect to the serial port of the Meerkat as well as start and stop data collection from the Safari 96Board. When the Data class object is initialized, a pop-up window will be generated displaying the plots for enabled channel and a radio button widget will be created allowing you to switch the plots from displaying voltage to the converted sensor value.\n",
    "\n",
    "###### These classes can be viewed and edited using the supplied safari_serial.py and safari_data.py files"
   ]
  },
  {
   "cell_type": "markdown",
   "metadata": {},
   "source": [
    "<span style='color:red'><strong>Please note that the configuration file will be written to the board once the connect button is clicked.</strong></span>"
   ]
  },
  {
   "cell_type": "code",
   "execution_count": null,
   "metadata": {},
   "outputs": [],
   "source": [
    "#Initialize the classes with the dictionary containing the channel information\n",
    "serial = Serial(channels, 'ad7124_default_config.py')\n",
    "data = Data(channels)"
   ]
  },
  {
   "cell_type": "markdown",
   "metadata": {},
   "source": [
    "<img src=\"images/stop-sign.png\" alt=\"Stop Sign\"/>"
   ]
  },
  {
   "cell_type": "markdown",
   "metadata": {},
   "source": [
    "<hr style=\"height:1px\">"
   ]
  },
  {
   "cell_type": "markdown",
   "metadata": {},
   "source": [
    "## Modifying the AD7124 On-Chip Registers\n",
    "\n",
    "#### If you would like to modify the functionality of the AD7124, follow the below steps\n",
    "\n",
    "1.Restart the kernel and clear the output by clicking <strong>Kernel -> Restart & Clear Output</strong> in the toolbar at the top of the page. This clears the kernel of any variables or functions that may have been created in the previous program.\n",
    "\n",
    "2.Create a copy of the ad7124_default_config.py file and name it 'ad7124_custom_config.py'. This newly created file will be used for all of the custom modification you would like to make."
   ]
  },
  {
   "cell_type": "code",
   "execution_count": null,
   "metadata": {},
   "outputs": [],
   "source": [
    "import shutil\n",
    "\n",
    "shutil.copy2('ad7124_default_config.py', 'ad7124_custom_config.py')"
   ]
  },
  {
   "cell_type": "markdown",
   "metadata": {},
   "source": [
    "3.Modify the default values for the AD7124 registers as needed, following the  [AD7124 datasheet](https://www.analog.com/media/en/technical-documentation/data-sheets/ad7124-8.pdf) for reference\n",
    "\n",
    "4.Next we need to update the config file, this is done by simply passing the name of the custom configuration file to the Serial class when it is initialized. This is done for you in the cell below.\n",
    "\n",
    "<span style='color:red'><strong>You should modify the 'channels' data structure according to your AD7124 configuration and application needs. The 'channels' structure used below is for reference only</strong></span>\n",
    "\n",
    "To edit the cell click inside it. The border will turn green."
   ]
  },
  {
   "cell_type": "code",
   "execution_count": 1,
   "metadata": {},
   "outputs": [
    {
     "data": {
      "application/vnd.jupyter.widget-view+json": {
       "model_id": "6b741aa2e080455381b15967487f2922",
       "version_major": 2,
       "version_minor": 0
      },
      "text/plain": [
       "HBox(children=(Dropdown(description='Serial Port:', options=('No Serial Cable Connected',), value='No Serial C…"
      ]
     },
     "metadata": {},
     "output_type": "display_data"
    },
    {
     "data": {
      "application/vnd.jupyter.widget-view+json": {
       "model_id": "e8462945ff874dc185effefd7a3c4fcd",
       "version_major": 2,
       "version_minor": 0
      },
      "text/plain": [
       "HBox(children=(Button(description='Start Data Collection', disabled=True, style=ButtonStyle()),))"
      ]
     },
     "metadata": {},
     "output_type": "display_data"
    },
    {
     "data": {
      "application/vnd.jupyter.widget-view+json": {
       "model_id": "3cf1d73a5e854e92b93ed6e183af8d88",
       "version_major": 2,
       "version_minor": 0
      },
      "text/plain": [
       "HBox(children=(RadioButtons(description='Data Format', options=('Voltage', 'Converted'), value='Voltage'),))"
      ]
     },
     "metadata": {},
     "output_type": "display_data"
    }
   ],
   "source": [
    "from safari_serial import Serial\n",
    "from safari_data import Data\n",
    "\n",
    "# Set the TkAgg backend for matplotlib\n",
    "%matplotlib tk\n",
    "\n",
    "# Add entries for each enabled channel. For example if you only enabled channel 5 in your custom configuration:\n",
    "channels = {\"0\":{}}\n",
    "\n",
    "#default fields for each channel\n",
    "for channel in channels:\n",
    "    channels[channel][\"max_elements\"] = 300\n",
    "    channels[channel][\"timestamps\"]=[]\n",
    "    channels[channel][\"voltages\"]=[]\n",
    "    channels[channel][\"values\"]=[]\n",
    "    channels[channel][\"axis\"] = None\n",
    "    channels[channel][\"annotation\"] = None\n",
    "    channels[channel][\"annotation_visible\"] = False\n",
    "    channels[channel][\"annotation_text\"] = \"\"\n",
    "    channels[channel][\"line\"] = None\n",
    "    channels[channel][\"annot_ax_xy\"] = None\n",
    "    channels[channel][\"axes_color\"] = 'k'\n",
    "    channels[channel][\"plot_title\"] = f\"Channel {channel}\"\n",
    "    channels[channel][\"y_label\"] = \"\"\n",
    "    channels[channel][\"y_label_converted\"] = \"\"\n",
    "    channels[channel][\"voltage_format_func\"] = None\n",
    "    channels[channel][\"value_conversion_func\"] = None\n",
    "    \n",
    "# Function for converting channel 0 voltage to an accelerometer value\n",
    "def convert_accelerometer(voltage, code):\n",
    "    del code\n",
    "    \n",
    "    vcc = 3.3\n",
    "    return round((voltage - vcc / 2) * 1 / 0.640, 3)\n",
    "    \n",
    "# Sample Configuration Channel 0 - Configure according to your application\n",
    "channels[\"0\"][\"axes_color\"] = 'tab:blue'\n",
    "channels[\"0\"][\"plot_title\"] = \"Channel 0\"\n",
    "channels[\"0\"][\"y_label\"] = 'Voltage (V)'\n",
    "channels[\"0\"][\"y_label_converted\"] = 'Accel. (g)'\n",
    "channels[\"0\"][\"value_conversion_func\"] = convert_accelerometer\n",
    "\n",
    "serial = Serial(channels, 'ad7124_custom_config.py')\n",
    "data = Data(channels)"
   ]
  },
  {
   "cell_type": "markdown",
   "metadata": {},
   "source": [
    "5.It is good practice to update the AD7124 python driver (ad7124.py) as well as the data collection application (safari.py) on the Meerkat as well. Execute the below cells <strong>AFTER</strong> successfully connecting the serial port."
   ]
  },
  {
   "cell_type": "code",
   "execution_count": null,
   "metadata": {},
   "outputs": [],
   "source": [
    "serial.write_file_to_meerkat(\"ad7124.py\", \"ad7124.py\")"
   ]
  },
  {
   "cell_type": "code",
   "execution_count": null,
   "metadata": {},
   "outputs": [],
   "source": [
    "serial.write_file_to_meerkat(\"safari.py\", \"safari.py\")"
   ]
  },
  {
   "cell_type": "markdown",
   "metadata": {},
   "source": [
    "<img src=\"images/stop-sign.png\" alt=\"Stop Sign\"/>"
   ]
  },
  {
   "cell_type": "markdown",
   "metadata": {},
   "source": [
    "<hr style=\"height:1px\">"
   ]
  },
  {
   "cell_type": "markdown",
   "metadata": {},
   "source": [
    "## Running Test Mode\n",
    "\n",
    "#### If you would like to run the test mode, which enables all of the channels, follow the steps below\n",
    "\n",
    "1.Restart the kernel and clear the output by clicking <strong>Kernel -> Restart & Clear Output</strong> in the toolbar at the top of the page. This clears the kernel of any variables or functions that may have been created in the previous program.\n",
    "\n",
    "2.First we need to import the Serial and Data modules required for the demo. We will also set the Matplotlib backend to provide a pop-up window for our data plots"
   ]
  },
  {
   "cell_type": "code",
   "execution_count": null,
   "metadata": {},
   "outputs": [],
   "source": [
    "from safari_serial import Serial\n",
    "from safari_data import Data\n",
    "import time\n",
    "\n",
    "import ipywidgets as widgets\n",
    "from ipywidgets import Label, FloatText, Layout, Box, HTML\n",
    "import threading\n",
    "\n",
    "# Set the TkAgg backend for matplotlib\n",
    "%matplotlib tk"
   ]
  },
  {
   "cell_type": "markdown",
   "metadata": {},
   "source": [
    "3.We need to create the same 'channels' data structure we created in the previous steps, however this time we will enable all of the channels."
   ]
  },
  {
   "cell_type": "code",
   "execution_count": null,
   "metadata": {},
   "outputs": [],
   "source": [
    "# Create a dictionary containing all of the enabled channels\n",
    "# since we know all channels are enabled in test mode we can quickly create the dictionary\n",
    "channels = {}\n",
    "for i in range (16):\n",
    "    channel = str(i)\n",
    "    channels[channel] = {}\n",
    "    # Number of elements to plot\n",
    "    channels[channel][\"max_elements\"] = 300\n",
    "    # Array for storing timestamps of when data was received\n",
    "    channels[channel][\"timestamps\"]=[]\n",
    "    # Array for storing channel voltages\n",
    "    channels[channel][\"voltages\"]=[]\n",
    "    # Array for storing the converted sensor values i.e. Temperature (deg. C) or Acceleration (G's)\n",
    "    channels[channel][\"values\"]=[]\n",
    "    # The axis object used for plotting. Each channel will get its own axis\n",
    "    channels[channel][\"axis\"] = None\n",
    "    # The annotation object used for displaying key values such as average, min, and max values for each channel\n",
    "    channels[channel][\"annotation\"] = None\n",
    "    # Boolean indicating if the annotation is visible. Default value is false since there are initially no values to annotate\n",
    "    channels[channel][\"annotation_visible\"] = False\n",
    "    # Text displayed by the annotation\n",
    "    channels[channel][\"annotation_text\"] = \"\"\n",
    "    # Line object used for the annotation\n",
    "    channels[channel][\"line\"] = None\n",
    "    # X-Y coordinates of the annotation box\n",
    "    channels[channel][\"annot_ax_xy\"] = None\n",
    "    # Color of the plot, default value is Black ('k')\n",
    "    channels[channel][\"axes_color\"] = 'k'\n",
    "    # Title of the plot\n",
    "    channels[channel][\"plot_title\"] = f\"Channel {channel}\"\n",
    "    # Y label of the plot when the voltages are displayed\n",
    "    channels[channel][\"y_label\"] = \"\"\n",
    "    # Y label of of the plot when values are displayed\n",
    "    channels[channel][\"y_label_converted\"] = \"\"\n",
    "    # Function for formatting voltage to plot, if None is specified, default operation is rounding voltage\n",
    "    # to 4 decimal places: round(float(voltage), 4)\n",
    "    channels[channel][\"voltage_format_func\"] = None\n",
    "    # Function for converting voltage to a sensor value for plotting, if None is specified, default operation is \n",
    "    # rounding voltage to 4 decimal places: round(float(voltage), 4)\n",
    "    channels[channel][\"value_conversion_func\"] = None"
   ]
  },
  {
   "cell_type": "markdown",
   "metadata": {},
   "source": [
    "4.Now we will initialize the Serial class with the newly created data structure along with the desired configuration file so we can connect to the board and begin collecting data.\n",
    "\n",
    "<span style='color:red'><strong>Please note that the configuration file will be written to the board once the connect button is clicked.</strong></span>\n",
    "\n",
    "We will also create some simple text widgets to display the channel voltages. These widgets will be update using a thread so we don't interfere with the serial communication used to read the data."
   ]
  },
  {
   "cell_type": "code",
   "execution_count": null,
   "metadata": {},
   "outputs": [],
   "source": [
    "#Initialize the classes with the dictionary containing the channel information\n",
    "serial = Serial(channels, 'ad7124_test_config.py')\n",
    "\n",
    "for channel in channels:\n",
    "    channels[channel][\"label_widget\"] = Label(value=f\"Channel {channel} Voltage: \")\n",
    "    channels[channel][\"value_widget\"] = HTML(value=f\"<b><font color='red'>N/A</b>\")\n",
    "    display(widgets.HBox([channels[channel][\"label_widget\"], channels[channel][\"value_widget\"]]))\n",
    "\n",
    "def update_test_values():\n",
    "    while True:\n",
    "        for channel in channels:\n",
    "            if len(channels[channel][\"voltages\"]) > 0:\n",
    "                channels[channel][\"value_widget\"].value = f\"<b><font color='green'>{channels[channel]['voltages'][-1]}V\"\n",
    "        time.sleep(0.1)\n",
    "        \n",
    "# Setup threading to continually read data from the serial port\n",
    "update_thread = threading.Thread(target=update_test_values)\n",
    "update_thread.daemon = True\n",
    "update_thread.start()"
   ]
  },
  {
   "cell_type": "markdown",
   "metadata": {},
   "source": [
    "<img src=\"images/stop-sign.png\" alt=\"Stop Sign\"/>"
   ]
  }
 ],
 "metadata": {
  "kernelspec": {
   "display_name": "Python 3",
   "language": "python",
   "name": "python3"
  },
  "language_info": {
   "codemirror_mode": {
    "name": "ipython",
    "version": 3
   },
   "file_extension": ".py",
   "mimetype": "text/x-python",
   "name": "python",
   "nbconvert_exporter": "python",
   "pygments_lexer": "ipython3",
   "version": "3.6.10"
  }
 },
 "nbformat": 4,
 "nbformat_minor": 2
}
