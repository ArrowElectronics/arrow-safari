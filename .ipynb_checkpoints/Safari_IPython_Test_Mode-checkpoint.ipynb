{
 "cells": [
  {
   "cell_type": "markdown",
   "metadata": {},
   "source": [
    "<p float=\"left\">\n",
    "  <img src=\"images/arrow_logo.jpg\" alt=\"Arrow Logo\" width=\"200\" height=\"100\" align=\"left\"/>\n",
    "  <img src=\"images/adi_logo.png\" alt=\"ADI Logo\" width=\"200\" height=\"100\" align=\"right\"/>\n",
    "</p>"
   ]
  },
  {
   "cell_type": "markdown",
   "metadata": {},
   "source": [
    "<hr style=\"height:5px; text-align:bottom\">\n",
    "\n",
    "# Run The Cells Below\n",
    "Run the cells below in sequence from top to bottom. Upon running the cell which initializes the required classes, a control widget and a pop-up containing data plots will appear.\n",
    "\n",
    "To execute a cell:\n",
    "1. Select the cell you wish to run by clicking the white space surrounding it. A blue border will appear around the cell.\n",
    "\n",
    "    <img src=\"images/jupyter_cell_selected.PNG\" alt=\"Jupyter Cell Selected\"/>\n",
    "\n",
    "2. Click the <strong>Run</strong> button at the top of the notebook to run the selected cell. Alternatively, you can use the CTRL+Enter keyboard combination to run the selected cell.\n",
    "    - You can run the cells with markdown code in them, they have no effect on the program\n",
    "    \n",
    "3. After the cell has been run, a number indicating the current execution step will be inserted between the brackets on the left side of the cell.\n",
    "\n",
    "    <img src=\"images/jupyter_cell_executed.PNG\" alt=\"Jupyter Cell Executed\"/>\n",
    "    \n",
    "    - Occasionally, after running the cell an asterisk may appear instead of a number, this indicates the cell is busy. Simply run the cell again to force/continue code execution.\n",
    "\n",
    "    <img src=\"images/jupyter_cell_busy.PNG\" alt=\"Jupyter Cell Busy\"/>\n",
    "\n",
    "\n",
    "If you make a mistake or run into problems, click <strong>Kernel -> Restart & Clear Output</strong> in the toolbar at the top of the page and start again. This clears the kernel of any variables or functions that may have been created in the previous program.\n",
    "\n",
    "<hr style=\"height:1px\">\n",
    "\n",
    "## Running Test Mode\n",
    "\n",
    "If you would like to run the test mode, which enables all of the channels, follow the steps below\n",
    "\n",
    "1.Restart the kernel and clear the output by clicking <strong>Kernel -> Restart & Clear Output</strong> in the toolbar at the top of the page. This clears the kernel of any variables or functions that may have been created in the previous program.\n",
    "\n",
    "2.First we need to import the Serial and Data modules required for the demo. We will also set the Matplotlib backend to provide a pop-up window for our data plots"
   ]
  },
  {
   "cell_type": "code",
   "execution_count": null,
   "metadata": {},
   "outputs": [],
   "source": [
    "from safari_serial import Serial\n",
    "from safari_data import Data\n",
    "import time\n",
    "\n",
    "import ipywidgets as widgets\n",
    "from ipywidgets import Label, FloatText, Layout, Box, HTML\n",
    "import threading\n",
    "\n",
    "# Set the TkAgg backend for matplotlib\n",
    "%matplotlib tk"
   ]
  },
  {
   "cell_type": "markdown",
   "metadata": {},
   "source": [
    "3.We need to create a 'channels' data structure for enabling all of the AD7124 channels and storing all of the data."
   ]
  },
  {
   "cell_type": "code",
   "execution_count": null,
   "metadata": {},
   "outputs": [],
   "source": [
    "# Create a dictionary containing all of the enabled channels\n",
    "# since we know all channels are enabled in test mode we can quickly create the dictionary\n",
    "channels = {}\n",
    "for i in range (16):\n",
    "    channel = str(i)\n",
    "    channels[channel] = {}\n",
    "    # Number of elements to plot\n",
    "    channels[channel][\"max_elements\"] = 300\n",
    "    # Array for storing timestamps of when data was received\n",
    "    channels[channel][\"timestamps\"]=[]\n",
    "    # Array for storing channel voltages\n",
    "    channels[channel][\"voltages\"]=[]\n",
    "    # Array for storing the converted sensor values i.e. Temperature (deg. C) or Acceleration (G's)\n",
    "    channels[channel][\"values\"]=[]\n",
    "    # The axis object used for plotting. Each channel will get its own axis\n",
    "    channels[channel][\"axis\"] = None\n",
    "    # The annotation object used for displaying key values such as average, min, and max values for each channel\n",
    "    channels[channel][\"annotation\"] = None\n",
    "    # Boolean indicating if the annotation is visible. Default value is false since there are initially no values to annotate\n",
    "    channels[channel][\"annotation_visible\"] = False\n",
    "    # Text displayed by the annotation\n",
    "    channels[channel][\"annotation_text\"] = \"\"\n",
    "    # Line object used for the annotation\n",
    "    channels[channel][\"line\"] = None\n",
    "    # X-Y coordinates of the annotation box\n",
    "    channels[channel][\"annot_ax_xy\"] = None\n",
    "    # Color of the plot, default value is Black ('k')\n",
    "    channels[channel][\"axes_color\"] = 'k'\n",
    "    # Title of the plot\n",
    "    channels[channel][\"plot_title\"] = f\"Channel {channel}\"\n",
    "    # Y label of the plot when the voltages are displayed\n",
    "    channels[channel][\"y_label\"] = \"\"\n",
    "    # Y label of of the plot when values are displayed\n",
    "    channels[channel][\"y_label_converted\"] = \"\"\n",
    "    # Function for formatting voltage to plot, if None is specified, default operation is rounding voltage\n",
    "    # to 4 decimal places: round(float(voltage), 4)\n",
    "    channels[channel][\"voltage_format_func\"] = None\n",
    "    # Function for converting voltage to a sensor value for plotting, if None is specified, default operation is \n",
    "    # rounding voltage to 4 decimal places: round(float(voltage), 4)\n",
    "    channels[channel][\"value_conversion_func\"] = None"
   ]
  },
  {
   "cell_type": "markdown",
   "metadata": {},
   "source": [
    "4.Now we will initialize the Serial class with the newly created data structure along with the desired configuration file so we can connect to the board and begin collecting data.\n",
    "\n",
    "We will also create some simple text widgets to display the channel voltages. These widgets will be update using a thread so we don't interfere with the serial communication used to read the data.\n",
    "\n",
    "After you run the cell you will be prompted to select the COM port that is connected to the Meerkat. Please refer to the [Identify COM Port](https://github.com/ArrowElectronics/arrow-safari/wiki/Running-Demo-in-Jupyter-Notebook#2-identify-com-port) section of the wiki for instructions.\n",
    "\n",
    "<span style='color:red'><strong>Please note that the configuration file will be written to the board once the connect button is clicked.</strong></span>"
   ]
  },
  {
   "cell_type": "code",
   "execution_count": null,
   "metadata": {},
   "outputs": [],
   "source": [
    "#Initialize the classes with the dictionary containing the channel information\n",
    "serial = Serial(channels, 'ad7124_test_config.py')\n",
    "\n",
    "for channel in channels:\n",
    "    channels[channel][\"label_widget\"] = Label(value=f\"Channel {channel} Voltage: \")\n",
    "    channels[channel][\"value_widget\"] = HTML(value=f\"<b><font color='red'>N/A</b>\")\n",
    "    display(widgets.HBox([channels[channel][\"label_widget\"], channels[channel][\"value_widget\"]]))\n",
    "\n",
    "def update_test_values():\n",
    "    while True:\n",
    "        for channel in channels:\n",
    "            if len(channels[channel][\"voltages\"]) > 0:\n",
    "                channels[channel][\"value_widget\"].value = f\"<b><font color='green'>{channels[channel]['voltages'][-1]}V\"\n",
    "        time.sleep(0.1)\n",
    "        \n",
    "# Setup threading to continually read data from the serial port\n",
    "update_thread = threading.Thread(target=update_test_values)\n",
    "update_thread.daemon = True\n",
    "update_thread.start()"
   ]
  },
  {
   "cell_type": "markdown",
   "metadata": {},
   "source": [
    "6.Once you are finished running the demo, shutdown the kernel by clicking <strong>Kernel -> Shutdown</strong> in the toolbar at the top of the page."
   ]
  }
 ],
 "metadata": {
  "kernelspec": {
   "display_name": "Python 3",
   "language": "python",
   "name": "python3"
  },
  "language_info": {
   "codemirror_mode": {
    "name": "ipython",
    "version": 3
   },
   "file_extension": ".py",
   "mimetype": "text/x-python",
   "name": "python",
   "nbconvert_exporter": "python",
   "pygments_lexer": "ipython3",
   "version": "3.6.10"
  }
 },
 "nbformat": 4,
 "nbformat_minor": 2
}
