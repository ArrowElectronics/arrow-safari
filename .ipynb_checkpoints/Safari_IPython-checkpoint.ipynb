{
 "cells": [
  {
   "cell_type": "markdown",
   "metadata": {},
   "source": [
    "<p float=\"left\">\n",
    "  <img src=\"images/arrow_logo.jpg\" alt=\"Arrow Logo\" width=\"200\" height=\"100\" align=\"left\"/>\n",
    "  <img src=\"images/adi_logo.png\" alt=\"ADI Logo\" width=\"200\" height=\"100\" align=\"right\"/>\n",
    "</p>"
   ]
  },
  {
   "cell_type": "markdown",
   "metadata": {},
   "source": [
    "<hr style=\"height:5px; text-align:bottom\">\n",
    "\n",
    "# Run The Cells Below\n",
    "Run the cells below in sequence from top to bottom. Upon running the cell which initializes the required classes, a control widget and a pop-up containing data plots will appear.\n",
    "\n",
    "To execute a cell:\n",
    "1. Select the cell you wish to run by clicking the white space surrounding it. A blue border will appear around the cell.\n",
    "\n",
    "    <img src=\"images/jupyter_cell_selected.PNG\" alt=\"Jupyter Cell Selected\"/>\n",
    "\n",
    "2. Click the <strong>Run</strong> button at the top of the notebook to run the selected cell. Alternatively, you can use the CTRL+Enter keyboard combination to run the selected cell.\n",
    "    - You can run the cells with markdown code in them, they have no effect on the program\n",
    "    \n",
    "3. After the cell has been run, a number indicating the current execution step will be inserted between the brackets on the left side of the cell.\n",
    "\n",
    "    <img src=\"images/jupyter_cell_executed.PNG\" alt=\"Jupyter Cell Executed\"/>\n",
    "    \n",
    "    - Occasionally, after running the cell an asterisk may appear instead of a number, this indicates the cell is busy. Simply run the cell again to force/continue code execution.\n",
    "\n",
    "    <img src=\"images/jupyter_cell_busy.PNG\" alt=\"Jupyter Cell Busy\"/>\n",
    "\n",
    "\n",
    "If you make a mistake or run into problems, click <strong>Kernel -> Restart & Clear Output</strong> in the toolbar at the top of the page and start again. This clears the kernel of any variables or functions that may have been created in the previous program.\n",
    "\n",
    "<hr style=\"height:1px\">\n",
    "\n",
    "## Safari 96Boards Demo\n",
    "\n",
    "##### 1. First we need to import the Serial and Data modules required for the demo. We will also set the Matplotlib backend to provide a pop-up window for our data plots"
   ]
  },
  {
   "cell_type": "code",
   "execution_count": null,
   "metadata": {},
   "outputs": [],
   "source": [
    "from safari_serial import Serial\n",
    "from safari_data import Data\n",
    "\n",
    "# Set the TkAgg backend for matplotlib\n",
    "%matplotlib tk"
   ]
  },
  {
   "cell_type": "markdown",
   "metadata": {},
   "source": [
    "#### 2. In order to share data between the Serial and Data modules, we will use a dictionary to store data and settings and then initialize the classes with this dictionary. The dictionary created below contains a nested dictionary for each enabled channel. For each enabled channel, we need to initialize some default settings such as plot title and color."
   ]
  },
  {
   "cell_type": "code",
   "execution_count": null,
   "metadata": {},
   "outputs": [],
   "source": [
    "# Create a dictionary containing all of the enabled channels\n",
    "channels = {\"0\":{}, \"4\":{}, \"6\":{}}\n",
    "\n",
    "#default fields for each channel\n",
    "for channel in channels:\n",
    "    # Number of elements to plot\n",
    "    channels[channel][\"max_elements\"] = 300\n",
    "    # Array for storing timestamps of when data was received\n",
    "    channels[channel][\"timestamps\"]=[]\n",
    "    # Array for storing channel voltages\n",
    "    channels[channel][\"voltages\"]=[]\n",
    "    # Array for storing the converted sensor values i.e. Temperature (deg. C) or Acceleration (G's)\n",
    "    channels[channel][\"values\"]=[]\n",
    "    # The axis object used for plotting. Each channel will get its own axis\n",
    "    channels[channel][\"axis\"] = None\n",
    "    # The annotation object used for displaying key values such as average, min, and max values for each channel\n",
    "    channels[channel][\"annotation\"] = None\n",
    "    # Boolean indicating if the annotation is visible. Default value is false since there are initially no values to annotate\n",
    "    channels[channel][\"annotation_visible\"] = False\n",
    "    # Text displayed by the annotation\n",
    "    channels[channel][\"annotation_text\"] = \"\"\n",
    "    # Line object used for the annotation\n",
    "    channels[channel][\"line\"] = None\n",
    "    # X-Y coordinates of the annotation box\n",
    "    channels[channel][\"annot_ax_xy\"] = None\n",
    "    # Color of the plot, default value is Black ('k')\n",
    "    channels[channel][\"axes_color\"] = 'k'\n",
    "    # Title of the plot\n",
    "    channels[channel][\"plot_title\"] = f\"Channel {channel}\"\n",
    "    # Y label of the plot when the voltages are displayed\n",
    "    channels[channel][\"y_label\"] = \"\"\n",
    "    # Y label of of the plot when values are displayed\n",
    "    channels[channel][\"y_label_converted\"] = \"\"\n",
    "    # Function for formatting voltage to plot, if None is specified, default operation is rounding voltage\n",
    "    # to 4 decimal places: round(float(voltage), 4)\n",
    "    channels[channel][\"voltage_format_func\"] = None\n",
    "    # Function for converting voltage to a sensor value for plotting, if None is specified, default operation is \n",
    "    # rounding voltage to 4 decimal places: round(float(voltage), 4)\n",
    "    channels[channel][\"value_conversion_func\"] = None"
   ]
  },
  {
   "cell_type": "markdown",
   "metadata": {},
   "source": [
    "##### 3. The next thing we need to do is create functions to format the voltages for plotting. For example, the channel 4 voltage will be represented in millivolts so we will multiply the received voltage by 1000. The voltages for channels 0 and 6 will simply be rounded to 4 decimal places."
   ]
  },
  {
   "cell_type": "code",
   "execution_count": null,
   "metadata": {},
   "outputs": [],
   "source": [
    "# Since we don't need to modify the default operation for formatting voltage on Channel 0 or Channel 6 (rounding to 4 decimals),\n",
    "# we only need to create a format function for Channel 4 since it will be displayed in millivolts rather than volts\n",
    "\n",
    "# Function for formatting channel 4 voltage for plotting\n",
    "def convert_channel_4_voltage(voltage):\n",
    "    return round(float(voltage) * 1000, 4)"
   ]
  },
  {
   "cell_type": "markdown",
   "metadata": {},
   "source": [
    "#### 4. In addition to functions for formatting voltages, we need to create functions to convert the voltages from the sensors into actual units."
   ]
  },
  {
   "cell_type": "code",
   "execution_count": null,
   "metadata": {},
   "outputs": [],
   "source": [
    "# Function for converting channel 0 voltage to an accelerometer value\n",
    "def convert_accelerometer(voltage, code):\n",
    "    del code\n",
    "    \n",
    "    vcc = 3.3\n",
    "    return round((voltage - vcc / 2) * 1 / 0.640, 3)\n",
    "\n",
    "# Function for converting channel 4 code to a temperature value\n",
    "def convert_temperature(voltage, code):\n",
    "    del voltage\n",
    "    \n",
    "    r_rtd = (code * 5110) / ((2**24) * 16)\n",
    "    temp = (r_rtd - 100) / 0.385\n",
    "    return round(temp, 2)\n",
    "\n",
    "# Function for converting channel 6 voltage to a pressure value\n",
    "def convert_pressure(voltage, code):\n",
    "    del code\n",
    "    \n",
    "    vcc = 3.3\n",
    "    r1 = 132000\n",
    "    r2 = 100000\n",
    "    return round(((190.0 * voltage * (r1/r2)) / vcc - 38), 3)"
   ]
  },
  {
   "cell_type": "markdown",
   "metadata": {},
   "source": [
    "#### 5. Now we need to customize each channel with our desired settings. This includes things such as plot and axis titles as well as setting the conversion functions we defined above."
   ]
  },
  {
   "cell_type": "code",
   "execution_count": null,
   "metadata": {},
   "outputs": [],
   "source": [
    "# Configure Channel 0\n",
    "channels[\"0\"][\"axes_color\"] = 'tab:blue'\n",
    "channels[\"0\"][\"plot_title\"] = \"Channel 0\"\n",
    "channels[\"0\"][\"y_label\"] = 'Voltage (V)'\n",
    "channels[\"0\"][\"y_label_converted\"] = 'Accel. (g)'\n",
    "channels[\"0\"][\"value_conversion_func\"] = convert_accelerometer\n",
    "\n",
    "# Configure Channel 4\n",
    "channels[\"4\"][\"axes_color\"] = 'tab:red'\n",
    "channels[\"4\"][\"plot_title\"] = \"Channel 4\"\n",
    "channels[\"4\"][\"y_label\"] = 'Voltage (mV)'\n",
    "channels[\"4\"][\"y_label_converted\"] = 'Temp. (deg C)'\n",
    "channels[\"4\"][\"voltage_format_func\"] = convert_channel_4_voltage\n",
    "channels[\"4\"][\"value_conversion_func\"] = convert_temperature\n",
    "\n",
    "# Configure Channel 6\n",
    "channels[\"6\"][\"axes_color\"] = 'tab:green'\n",
    "channels[\"6\"][\"plot_title\"] = \"Channel 6\"\n",
    "channels[\"6\"][\"y_label\"] = 'Voltage (V)'\n",
    "channels[\"6\"][\"y_label_converted\"] = 'Pressure (Pa)'\n",
    "channels[\"6\"][\"value_conversion_func\"] = convert_pressure"
   ]
  },
  {
   "cell_type": "markdown",
   "metadata": {},
   "source": [
    "#### 6. Finally we simply initialize the Serial and Data class objects with the 'channels' dictionary created previously along with the desired configuration file. When the Serial class object is initialized, button widgets will be created allowing you to connect to the serial port of the Meerkat as well as start and stop data collection from the Safari 96Board. When the Data class object is initialized, a pop-up window will be generated displaying the plots for enabled channel and a radio button widget will be created allowing you to switch the plots from displaying voltage to the converted sensor value.\n",
    "\n",
    "###### These classes can be viewed and edited using the supplied safari_serial.py and safari_data.py files"
   ]
  },
  {
   "cell_type": "markdown",
   "metadata": {},
   "source": [
    "<span style='color:red'><strong>Please note that the configuration file will be written to the board once the connect button is clicked.</strong></span>"
   ]
  },
  {
   "cell_type": "code",
   "execution_count": null,
   "metadata": {},
   "outputs": [],
   "source": [
    "#Initialize the classes with the dictionary containing the channel information\n",
    "serial = Serial(channels, 'ad7124_default_config.py')\n",
    "data = Data(channels)"
   ]
  }
 ],
 "metadata": {
  "kernelspec": {
   "display_name": "Python 3",
   "language": "python",
   "name": "python3"
  },
  "language_info": {
   "codemirror_mode": {
    "name": "ipython",
    "version": 3
   },
   "file_extension": ".py",
   "mimetype": "text/x-python",
   "name": "python",
   "nbconvert_exporter": "python",
   "pygments_lexer": "ipython3",
   "version": "3.6.10"
  }
 },
 "nbformat": 4,
 "nbformat_minor": 2
}
