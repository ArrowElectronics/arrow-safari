{
 "cells": [
  {
   "cell_type": "markdown",
   "metadata": {},
   "source": [
    "<p float=\"left\">\n",
    "  <img src=\"images/arrow_logo.jpg\" alt=\"Arrow Logo\" width=\"200\" height=\"100\" align=\"left\"/>\n",
    "  <img src=\"images/adi_logo.png\" alt=\"ADI Logo\" width=\"200\" height=\"100\" align=\"right\"/>\n",
    "</p>"
   ]
  },
  {
   "cell_type": "markdown",
   "metadata": {},
   "source": [
    "<hr style=\"height:5px; text-align:bottom\">\n",
    "\n",
    "# Safari 96Boards Demo Featuring Analog Devices' AD7124\n",
    "\n",
    "## Introduction\n",
    "This demo is designed to demonstrate the functionality of the AD7124 using Arrow's Safari 96Board mezzanine card.\n",
    "\n",
    "\n",
    "\n",
    "## Required Components:\n",
    "1. [Novtech Meerkat 96Board](https://www.arrow.com/en/products/meerkat-001-013-0202/novtech-inc)\n",
    "2. Arrow Safari Multi-Sensor Input 96Boards Mezzanine Card - p/n 96B-05SENSORADC-V2.0-ARROW\n",
    "3. [12V/2A Power Supply](https://www.arrow.com/en/products/wm24p6-12-a-ql/autec-power-systems) (Not Pictured)\n",
    "4. [8GB or larger MicroSD Card](https://www.arrow.com/en/products/3259/adafruit-industries) (Not Pictured)\n",
    "5. [USB-to-UART Cable](https://www.arrow.com/en/products/cab-12977/sparkfun-electronics) (Not Pictured)\n",
    "6. [Analog Devices ADXL203EB Accelerometer Eval Board](https://www.arrow.com/en/products/adxl203eb/analog-devices)\n",
    "7. [4-pin Connector Cable](https://www.arrow.com/en/products/search?datasheets=true&selectedType=product&q=IDSS-04-S-06.00-ST4) (not shown)\n",
    "8. [Adafruit 3290 PT100 RTD Temperature Probe](https://www.arrow.com/en/products/3290/adafruit-industries)\n",
    "9. [Sensirion SDP816-125PA Differential Pressure Sensor](https://www.arrow.com/en/products/sdp816-125pa/sensirion-ag) (not shown)\n",
    "\n",
    "<img src=\"images/Safari-Kit-Unassembled.JPG\" alt=\"Safari Kit\"/>\n",
    "\n",
    "## Flashing The SD Card\n",
    "For the Safari kit the Meerkat board requires an 8GB microSD card with the necessary software downloaded (flashed) onto it. Here are the instructions for doing this.\n",
    "\n",
    "1. Obtain 8GB or larger microSD card\n",
    "2. Download the image 'safari_v2.img.bz2'\n",
    "3. Extract image using winzip, 7zip, etc. File name will now be 'safari_v2.img'\n",
    "4. Format microSD card to 'FAT32' using 'SD Card Formatter' or another program\n",
    "5. Using balenaEtcher or similar software transfer image from your PC to the memory card\n",
    "\n",
    "## Board Preparation\n",
    "### 1. Insert Memory Card\n",
    "Insert microSD card containing Linux OS and Safari demo into Meerkat.\n",
    "<img src=\"images/SD_card.JPG\" alt=\"Safari Kit\" width=\"600\" height=\"500\"/>\n",
    "\n",
    "### 2. Set DIP Switch to Boot from SD Card\n",
    "Turn the Meerkat board over and identify the small DPDT DIP switch on the bottom. Make sure both switches 1 and 2 are in the ON position as shown.\n",
    "<img src=\"images/Meerkat_bottom_DIP.jpeg\" alt=\"Safari Kit\" width=\"400\" height=\"100\"/>\n",
    "\n",
    "### 3. Bend Connector to Provide Clearance\n",
    "Before connecting the Safari and Meerkat boards together it is necessary to modify one of the connectors. This will provide clearance for the Safari board and allow access to pins which are needed for the UART connection. Very carefully bend the 3 pins on connector J3 located next to the power input jack on the Meerkat board taking special care not to rip it off the board while doing so.\n",
    "<img src=\"images/Meerkat_top_pins.jpeg\" alt=\"Safari Kit\" width=\"600\" height=\"500\"/>\n",
    "<img src=\"images/Meerkat_side_pins.jpeg\" alt=\"Safari Kit\" width=\"600\" height=\"500\"/>\n",
    "\n",
    "### 4. Connect Safari Mezzanine to Meerkat\n",
    "Assemble Safari board on top of Meerkat board using the mating low-speed connectors on each board. It should like this:\n",
    "<img src=\"images/Safari-Kit-Assembled.jpg\" alt=\"Safari Kit\" width=\"600\" height=\"500\"/>\n",
    "\n",
    "## Power Test\n",
    "Before connecting anything to the inputs it is a good idea to test the power to both the Meerkat and Safari boards first.\n",
    "1. Plug AC-to-DC power supply into AC wall outlet and insert barrel jack into receptacle on the Meerkat board.\n",
    "2. Check that all 4 LEDs on the Safari- red, blue, yellow, green- are on. These LEDs correspond to the following power supplies:\n",
    "       Red: 5VDC output from Meerkat\n",
    "       Blue: 1.8VDC output from Meerkat\n",
    "       Yellow: 3.3VDC supply 'AVDD' on Safari board\n",
    "       Green: 1.8VDC supply 'IOVDD' on Safari board\n",
    "<img src=\"images/Power_LEDs.jpeg\" alt=\"Safari Kit\" width=\"600\" height=\"500\"/>\n",
    "3. Check LEDs\n",
    "       (a) If these are all lit up, we are ready to go to the next step which is connecting the sensors. Remove power to the Meerkat board before proceeding to this step.\n",
    "       (b) If the LEDs are not all lit up, there is a problem with a power supply. Using a multimeter and the schematics, troubleshoot and identify the problem and fix before proceeding.\n",
    "\n",
    "## Safari Sensor Connections\n",
    "The demo software allows you to connect the Analog Devices ADXL203EB accelerometer eval board, Adafruit 3290 RTD temperature probe and Sensirion SDP816-125PA differential pressure sensor and view the outputs.\n",
    "\n",
    "### ADXL203EB Accelerometer Eval Board\n",
    "Connect 4-pin connector cable to the ADXL203EB accelerometer board leaving pin ST unconnected. Identify the color of the wire connected to pin +V on the ADLX203EB; connect the other end to Safari board connector J1 pin 1 (AVdd) and tighten down using a small screwdriver. Similarly connect the wire on pin X to J1 pin 2 (IN0) on Safari, and the wire on pin G to J1 pin 4 (ground). See picture below.\n",
    "\n",
    "### Adafruit 3290 RTD Temperature Probe\n",
    "This is a little tricky. Using 22-26 gauge insulated wire, cut small pieces and insert into terminal J2 on Safari as shown in these diagrams, tightening down on corresponding screws.\n",
    "\n",
    "1. Connect wire between pins IN2 and REF+\n",
    "2. Connect wire between pins IN3 and IN5\n",
    "3. Connect wire between pins REF- and IN4\n",
    "4. Connect precision resistor between REF+ and REF-\n",
    "5. Now take the RTD probe and determine which two wires are connected together at one end by using an ohmmeter. Resistance should be approximately zero ohms. Take the wire which is not connected directly to the others (resistance approx 100 ohms) and connect to J2 pin 6 (IN4) (will have to loosen screw first). Take one of the remaining wires and connect to J2 pin 5 (IN5) and the other wire to J2 pin 6 (HDRM).\n",
    "\n",
    "<img src=\"images/Safari_sensor_wiring.png\" alt=\"Safari Kit\"/>\n",
    "\n",
    "### Sensirion SDP816-125PA Differential Pressure Sensor\n",
    "1. Connect wiring harness to the pressure sensor\n",
    "2. Connect wires for OCS and GND together (pins 3 and 1- see diagram) then connect to AGND on board\n",
    "3. Connect wire from VDD on sensor (pin 2) to AVDD on board\n",
    "4. Connect wire from AOUT on sensor (pin 4) to IN6 on board\n",
    "\n",
    "## Running the Demo\n",
    "### 1. Connect UART Cable\n",
    "Connect the USB-to-UART cable between connector J3 on the Meerkat board and any available port on your PC.\n",
    "<img src=\"images/UART_connections.jpg\" alt=\"Safari Kit\"/>\n",
    "\n",
    "### 2. Set Jumpers on Top of Safari Board\n",
    "Set jumpers on top of Safari board as follows (see picture below):\n",
    "\n",
    "|Jumper|Settings| Description\n",
    "-------|--------|-------------\n",
    "|JP1|off|enables 30.9k resistor R6A for resistive divider on input IN6\n",
    "|JP2|on|enables 100k resistor R6B for resistive divider on input IN6\n",
    "|JP3|off|enables 30.9k resistor R6A for resistive divider on input IN7\n",
    "|JP4|on|enables 100k resistor R6B for resistive divider on input IN7\n",
    "|JP5|across pins 1-2|enables positive output (2.5V) from precision voltage reference U5\n",
    "|JP6|across pins 3-4|enables negative output (GND) from precision voltage reference U5\n",
    "\n",
    "<img src=\"images/test_jumpers.PNG\" alt=\"Safari Kit\"/>\n",
    "\n",
    "### 3. Connect Power Supply\n",
    "Connect the 12V power supply to the Meerkat board. Wait approximately 15 seconds for the Meerkat to fully boot.\n",
    "\n",
    "### 4. Identify COM Port\n",
    "On your PC running Windows 10 open up Device Manager. Look under 'Ports' and make a note of which COM port the Meerkat is connected to. If there are multiple devices listed, you can unplug the USB cable and plug it back in to identify the right one.\n",
    "\n",
    "<img src=\"images/Device_Mgr_Ports.JPG\" alt=\"Safari Kit\"/>\n",
    "\n",
    "### 5. Run The Cells Below\n",
    "Run the cells below in sequence from top to bottom. Upon running the cell which initializes the required classes, a control widgets and a pop-up containing data plots will appear.\n",
    "\n",
    "<hr style=\"height:1px\">"
   ]
  },
  {
   "cell_type": "markdown",
   "metadata": {},
   "source": [
    "##### A. First we need to import the Serial and Data modules required for the demo. We will also set the Matplotlib backend to provide a pop-up window for our data plots"
   ]
  },
  {
   "cell_type": "code",
   "execution_count": null,
   "metadata": {},
   "outputs": [],
   "source": [
    "from safari_serial import Serial\n",
    "from safari_data import Data\n",
    "\n",
    "# Set the TkAgg backend for matplotlib\n",
    "%matplotlib tk"
   ]
  },
  {
   "cell_type": "markdown",
   "metadata": {},
   "source": [
    "#### B. In order to share data between the Serial and Data modules, we will use a dictionary to store data and settings and then initialize the classes with this dictionary. The dictionary created below contains a nested dictionary for each enabled channel. For each enabled channel, we need to initialize some default settings such as plot title and color."
   ]
  },
  {
   "cell_type": "code",
   "execution_count": null,
   "metadata": {},
   "outputs": [],
   "source": [
    "# Create a dictionary containing all of the enabled channels\n",
    "channels = {\"0\":{}, \"4\":{}, \"6\":{}}\n",
    "\n",
    "#default fields for each channel\n",
    "for channel in channels:\n",
    "    # Number of elements to plot\n",
    "    channels[channel][\"max_elements\"] = 300\n",
    "    # Array for storing timestamps of when data was received\n",
    "    channels[channel][\"timestamps\"]=[]\n",
    "    # Array for storing channel voltages\n",
    "    channels[channel][\"voltages\"]=[]\n",
    "    # Array for storing the converted sensor values i.e. Temperature (deg. C) or Acceleration (G's)\n",
    "    channels[channel][\"values\"]=[]\n",
    "    # The axis object used for plotting. Each channel will get its own axis\n",
    "    channels[channel][\"axis\"] = None\n",
    "    # The annotation object used for displaying key values such as average, min, and max values for each channel\n",
    "    channels[channel][\"annotation\"] = None\n",
    "    # Boolean indicating if the annotation is visible. Default value is false since there are initially no values to annotate\n",
    "    channels[channel][\"annotation_visible\"] = False\n",
    "    # Text displayed by the annotation\n",
    "    channels[channel][\"annotation_text\"] = \"\"\n",
    "    # Line object used for the annotation\n",
    "    channels[channel][\"line\"] = None\n",
    "    # X-Y coordinates of the annotation box\n",
    "    channels[channel][\"annot_ax_xy\"] = None\n",
    "    # Color of the plot, default value is Black ('k')\n",
    "    channels[channel][\"axes_color\"] = 'k'\n",
    "    # Title of the plot\n",
    "    channels[channel][\"plot_title\"] = f\"Channel {channel}\"\n",
    "    # Y label of the plot when the voltages are displayed\n",
    "    channels[channel][\"y_label\"] = \"\"\n",
    "    # Y label of of the plot when values are displayed\n",
    "    channels[channel][\"y_label_converted\"] = \"\"\n",
    "    # Function for formatting voltage to plot, if None is specified, default operation is rounding voltage\n",
    "    # to 4 decimal places: round(float(voltage), 4)\n",
    "    channels[channel][\"voltage_format_func\"] = None\n",
    "    # Function for converting voltage to a sensor value for plotting, if None is specified, default operation is \n",
    "    # rounding voltage to 4 decimal places: round(float(voltage), 4)\n",
    "    channels[channel][\"value_conversion_func\"] = None"
   ]
  },
  {
   "cell_type": "markdown",
   "metadata": {},
   "source": [
    "##### C. The next thing we need to do is create functions to format the voltages for plotting. For example, the channel 4 voltage will be represented in millivolts so we will multiply the received voltage by 1000. The voltages for channels 0 and 6 will simply be rounded to 4 decimal places."
   ]
  },
  {
   "cell_type": "code",
   "execution_count": null,
   "metadata": {},
   "outputs": [],
   "source": [
    "# Since we don't need to modify the default operation for formatting voltage on Channel 0 or Channel 6 (rounding to 4 decimals),\n",
    "# we only need to create a format function for Channel 4 since it will be displayed in millivolts rather than volts\n",
    "\n",
    "# Function for formatting channel 4 voltage for plotting\n",
    "def convert_channel_4_voltage(voltage):\n",
    "    return round(float(voltage) * 1000, 4)"
   ]
  },
  {
   "cell_type": "markdown",
   "metadata": {},
   "source": [
    "#### D. In addition to functions for formatting voltages, we need to create functions to convert the voltages from the sensors into actual units."
   ]
  },
  {
   "cell_type": "code",
   "execution_count": null,
   "metadata": {},
   "outputs": [],
   "source": [
    "# Function for converting channel 0 voltage to an accelerometer value\n",
    "def convert_accelerometer(voltage, code):\n",
    "    del code\n",
    "    \n",
    "    vcc = 3.3\n",
    "    return round((voltage - vcc / 2) * 1 / 0.640, 3)\n",
    "\n",
    "# Function for converting channel 4 code to a temperature value\n",
    "def convert_temperature(voltage, code):\n",
    "    del voltage\n",
    "    \n",
    "    r_rtd = (code * 5110) / ((2**24) * 16)\n",
    "    temp = (r_rtd - 100) / 0.385\n",
    "    return round(temp, 2)\n",
    "\n",
    "# Function for converting channel 6 voltage to a pressure value\n",
    "def convert_pressure(voltage, code):\n",
    "    del code\n",
    "    \n",
    "    vcc = 3.3\n",
    "    r1 = 132000\n",
    "    r2 = 100000\n",
    "    return round(((190.0 * voltage * (r1/r2)) / vcc - 38), 3)"
   ]
  },
  {
   "cell_type": "markdown",
   "metadata": {},
   "source": [
    "#### E. Now we need to customize each channel with our desired settings. This includes things such as plot and axis titles as well as setting the conversion functions we defined above."
   ]
  },
  {
   "cell_type": "code",
   "execution_count": null,
   "metadata": {},
   "outputs": [],
   "source": [
    "# Configure Channel 0\n",
    "channels[\"0\"][\"axes_color\"] = 'tab:blue'\n",
    "channels[\"0\"][\"plot_title\"] = \"Channel 0\"\n",
    "channels[\"0\"][\"y_label\"] = 'Voltage (V)'\n",
    "channels[\"0\"][\"y_label_converted\"] = 'Accel. (g)'\n",
    "channels[\"0\"][\"value_conversion_func\"] = convert_accelerometer\n",
    "\n",
    "# Configure Channel 4\n",
    "channels[\"4\"][\"axes_color\"] = 'tab:red'\n",
    "channels[\"4\"][\"plot_title\"] = \"Channel 4\"\n",
    "channels[\"4\"][\"y_label\"] = 'Voltage (mV)'\n",
    "channels[\"4\"][\"y_label_converted\"] = 'Temp. (deg C)'\n",
    "channels[\"4\"][\"voltage_format_func\"] = convert_channel_4_voltage\n",
    "channels[\"4\"][\"value_conversion_func\"] = convert_temperature\n",
    "\n",
    "# Configure Channel 6\n",
    "channels[\"6\"][\"axes_color\"] = 'tab:green'\n",
    "channels[\"6\"][\"plot_title\"] = \"Channel 6\"\n",
    "channels[\"6\"][\"y_label\"] = 'Voltage (V)'\n",
    "channels[\"6\"][\"y_label_converted\"] = 'Pressure (Pa)'\n",
    "channels[\"6\"][\"value_conversion_func\"] = convert_pressure"
   ]
  },
  {
   "cell_type": "markdown",
   "metadata": {},
   "source": [
    "#### F. Finally we simply initialize the Serial and Data class objects with the 'channels' dictionary created previously along with the desired configuration file. When the Serial class object is initialized, button widgets will be created allowing you to connect to the serial port of the Meerkat as well as start and stop data collection from the Safari 96Board. When the Data class object is initialized, a pop-up window will be generated displaying the plots for enabled channel and a radio button widget will be created allowing you to switch the plots from displaying voltage to the converted sensor value.\n",
    "\n",
    "###### These classes can be viewed and edited using the supplied safari_serial.py and safari_data.py files"
   ]
  },
  {
   "cell_type": "markdown",
   "metadata": {},
   "source": [
    "<span style='color:red'><strong>Please note that the configuration file will be written to the board once the connect button is clicked.</strong></span>"
   ]
  },
  {
   "cell_type": "code",
   "execution_count": null,
   "metadata": {},
   "outputs": [],
   "source": [
    "#Initialize the classes with the dictionary containing the channel information\n",
    "serial = Serial(channels, 'ad7124_default_config.py')\n",
    "data = Data(channels)"
   ]
  },
  {
   "cell_type": "markdown",
   "metadata": {},
   "source": [
    "<hr style=\"height:1px\">"
   ]
  },
  {
   "cell_type": "markdown",
   "metadata": {},
   "source": [
    "# Modifying the AD7124 On-Chip Registers\n",
    "\n",
    "#### G. If you would like to modify the functionality of the AD7124, follow the below steps\n",
    "\n",
    "1.Create a copy of the ad7124_default_config.py file and name it 'ad7124_custom_config.py'. This newly created file will be used for all of the custom modification you would like to make."
   ]
  },
  {
   "cell_type": "code",
   "execution_count": null,
   "metadata": {},
   "outputs": [],
   "source": [
    "import shutil\n",
    "\n",
    "shutil.copy2('ad7124_default_config.py', 'ad7124_custom_config.py')"
   ]
  },
  {
   "cell_type": "markdown",
   "metadata": {},
   "source": [
    "2.Modify the default values for the AD7124 registers as needed, following the  [AD7124 datasheet](https://www.analog.com/media/en/technical-documentation/data-sheets/ad7124-8.pdf) for reference\n",
    "\n",
    "3.Next we need to update the config file, this is done by simply passing the name of the custom configuration file to the Serial class when it is initialized.\n",
    "\n",
    "<span style='color:red'><strong>You should modify the 'channels' data structure according to your AD7124 configuration and application needs. The 'channels' structure used below is for reference only</strong></span>"
   ]
  },
  {
   "cell_type": "code",
   "execution_count": null,
   "metadata": {},
   "outputs": [],
   "source": [
    "from safari_serial import Serial\n",
    "from safari_data import Data\n",
    "\n",
    "# Add entries for each enabled channel. For example if you only enabled channel 5 in your custom configuration:\n",
    "channels = {\"5\":{}}\n",
    "\n",
    "#default fields for each channel\n",
    "for channel in channels:\n",
    "    channels[channel][\"max_elements\"] = 300\n",
    "    channels[channel][\"timestamps\"]=[]\n",
    "    channels[channel][\"voltages\"]=[]\n",
    "    channels[channel][\"values\"]=[]\n",
    "    channels[channel][\"axis\"] = None\n",
    "    channels[channel][\"annotation\"] = None\n",
    "    channels[channel][\"annotation_visible\"] = False\n",
    "    channels[channel][\"annotation_text\"] = \"\"\n",
    "    channels[channel][\"line\"] = None\n",
    "    channels[channel][\"annot_ax_xy\"] = None\n",
    "    channels[channel][\"axes_color\"] = 'k'\n",
    "    channels[channel][\"plot_title\"] = f\"Channel {channel}\"\n",
    "    channels[channel][\"y_label\"] = \"\"\n",
    "    channels[channel][\"y_label_converted\"] = \"\"\n",
    "    channels[channel][\"voltage_format_func\"] = None\n",
    "    channels[channel][\"value_conversion_func\"] = None\n",
    "    \n",
    "# Function for converting channel 0 voltage to an accelerometer value\n",
    "def convert_accelerometer(voltage, code):\n",
    "    del code\n",
    "    \n",
    "    vcc = 3.3\n",
    "    return round((voltage - vcc / 2) * 1 / 0.640, 3)\n",
    "    \n",
    "# Sample Configuration Channel 0 - Configure according to your application\n",
    "channels[\"5\"][\"axes_color\"] = 'tab:blue'\n",
    "channels[\"5\"][\"plot_title\"] = \"Channel 5\"\n",
    "channels[\"5\"][\"y_label\"] = 'Voltage (V)'\n",
    "channels[\"5\"][\"y_label_converted\"] = 'Accel. (g)'\n",
    "channels[\"5\"][\"value_conversion_func\"] = convert_accelerometer\n",
    "\n",
    "serial = Serial(None, 'ad7124_custom_config.py')\n",
    "data = Data(channels)"
   ]
  },
  {
   "cell_type": "markdown",
   "metadata": {},
   "source": [
    "4.It is good practice to update the AD7124 python driver (ad7124.py) as well as the data collection application (safari.py) on the Meerkat as well. Execute the below cells <strong>AFTER</strong> successfully connecting the serial port."
   ]
  },
  {
   "cell_type": "code",
   "execution_count": null,
   "metadata": {},
   "outputs": [],
   "source": [
    "serial.write_file_to_meerkat(\"ad7124.py\")"
   ]
  },
  {
   "cell_type": "code",
   "execution_count": null,
   "metadata": {},
   "outputs": [],
   "source": [
    "serial.write_file_to_meerkat(\"safari.py\")"
   ]
  },
  {
   "cell_type": "markdown",
   "metadata": {},
   "source": [
    "<hr style=\"height:1px\">"
   ]
  },
  {
   "cell_type": "markdown",
   "metadata": {},
   "source": [
    "# Running Test Mode\n",
    "\n",
    "#### H. If you would like to run the test mode, which enables all of the channels, follow the steps below\n",
    "\n",
    "1.First we need to import the Serial and Data modules required for the demo. We will also set the Matplotlib backend to provide a pop-up window for our data plots"
   ]
  },
  {
   "cell_type": "code",
   "execution_count": null,
   "metadata": {},
   "outputs": [],
   "source": [
    "from safari_serial import Serial\n",
    "from safari_data import Data\n",
    "import time\n",
    "\n",
    "import ipywidgets as widgets\n",
    "from ipywidgets import Label, FloatText, Layout, Box, HTML\n",
    "import threading\n",
    "\n",
    "# Set the TkAgg backend for matplotlib\n",
    "%matplotlib tk"
   ]
  },
  {
   "cell_type": "markdown",
   "metadata": {},
   "source": [
    "2.We need to create the same 'channels' data structure we created in the previous steps, however this time we will enable all of the channels."
   ]
  },
  {
   "cell_type": "code",
   "execution_count": null,
   "metadata": {},
   "outputs": [],
   "source": [
    "# Create a dictionary containing all of the enabled channels\n",
    "# since we know all channels are enabled in test mode we can quickly create the dictionary\n",
    "channels = {}\n",
    "for i in range (16):\n",
    "    channel = str(i)\n",
    "    channels[channel] = {}\n",
    "    # Number of elements to plot\n",
    "    channels[channel][\"max_elements\"] = 300\n",
    "    # Array for storing timestamps of when data was received\n",
    "    channels[channel][\"timestamps\"]=[]\n",
    "    # Array for storing channel voltages\n",
    "    channels[channel][\"voltages\"]=[]\n",
    "    # Array for storing the converted sensor values i.e. Temperature (deg. C) or Acceleration (G's)\n",
    "    channels[channel][\"values\"]=[]\n",
    "    # The axis object used for plotting. Each channel will get its own axis\n",
    "    channels[channel][\"axis\"] = None\n",
    "    # The annotation object used for displaying key values such as average, min, and max values for each channel\n",
    "    channels[channel][\"annotation\"] = None\n",
    "    # Boolean indicating if the annotation is visible. Default value is false since there are initially no values to annotate\n",
    "    channels[channel][\"annotation_visible\"] = False\n",
    "    # Text displayed by the annotation\n",
    "    channels[channel][\"annotation_text\"] = \"\"\n",
    "    # Line object used for the annotation\n",
    "    channels[channel][\"line\"] = None\n",
    "    # X-Y coordinates of the annotation box\n",
    "    channels[channel][\"annot_ax_xy\"] = None\n",
    "    # Color of the plot, default value is Black ('k')\n",
    "    channels[channel][\"axes_color\"] = 'k'\n",
    "    # Title of the plot\n",
    "    channels[channel][\"plot_title\"] = f\"Channel {channel}\"\n",
    "    # Y label of the plot when the voltages are displayed\n",
    "    channels[channel][\"y_label\"] = \"\"\n",
    "    # Y label of of the plot when values are displayed\n",
    "    channels[channel][\"y_label_converted\"] = \"\"\n",
    "    # Function for formatting voltage to plot, if None is specified, default operation is rounding voltage\n",
    "    # to 4 decimal places: round(float(voltage), 4)\n",
    "    channels[channel][\"voltage_format_func\"] = None\n",
    "    # Function for converting voltage to a sensor value for plotting, if None is specified, default operation is \n",
    "    # rounding voltage to 4 decimal places: round(float(voltage), 4)\n",
    "    channels[channel][\"value_conversion_func\"] = None"
   ]
  },
  {
   "cell_type": "markdown",
   "metadata": {},
   "source": [
    "3.Now we will initialize the Serial class with the newly created data structure along with the desired configuration file so we can connect to the board and begin collecting data.\n",
    "\n",
    "<span style='color:red'><strong>Please note that the configuration file will be written to the board once the connect button is clicked.</strong></span>\n",
    "\n",
    "We will also create some simple text widgets to display the channel voltages. These widgets will be update using a thread so we don't interfere with the serial communication used to read the data."
   ]
  },
  {
   "cell_type": "code",
   "execution_count": null,
   "metadata": {},
   "outputs": [],
   "source": [
    "#Initialize the classes with the dictionary containing the channel information\n",
    "serial = Serial(channels, 'ad7124_test_config.py')\n",
    "\n",
    "for channel in channels:\n",
    "    channels[channel][\"label_widget\"] = Label(value=f\"Channel {channel} Voltage: \")\n",
    "    channels[channel][\"value_widget\"] = HTML(value=f\"<b><font color='red'>N/A</b>\")\n",
    "    display(widgets.HBox([channels[channel][\"label_widget\"], channels[channel][\"value_widget\"]]))\n",
    "\n",
    "def update_test_values():\n",
    "    while True:\n",
    "        for channel in channels:\n",
    "            if len(channels[channel][\"voltages\"]) > 0:\n",
    "                channels[channel][\"value_widget\"].value = f\"<b><font color='green'>{channels[channel]['voltages'][-1]}V\"\n",
    "        time.sleep(0.1)\n",
    "        \n",
    "# Setup threading to continually read data from the serial port\n",
    "update_thread = threading.Thread(target=update_test_values)\n",
    "update_thread.daemon = True\n",
    "update_thread.start()"
   ]
  },
  {
   "cell_type": "code",
   "execution_count": null,
   "metadata": {},
   "outputs": [],
   "source": []
  }
 ],
 "metadata": {
  "kernelspec": {
   "display_name": "Python 3",
   "language": "python",
   "name": "python3"
  },
  "language_info": {
   "codemirror_mode": {
    "name": "ipython",
    "version": 3
   },
   "file_extension": ".py",
   "mimetype": "text/x-python",
   "name": "python",
   "nbconvert_exporter": "python",
   "pygments_lexer": "ipython3",
   "version": "3.6.10"
  }
 },
 "nbformat": 4,
 "nbformat_minor": 2
}
