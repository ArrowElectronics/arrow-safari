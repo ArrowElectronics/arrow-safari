{
 "cells": [
  {
   "cell_type": "markdown",
   "metadata": {},
   "source": [
    "<p float=\"left\">\n",
    "  <img src=\"images/arrow_logo.jpg\" alt=\"Arrow Logo\" width=\"200\" height=\"100\" align=\"left\"/>\n",
    "  <img src=\"images/adi_logo.png\" alt=\"ADI Logo\" width=\"200\" height=\"100\" align=\"right\"/>\n",
    "</p>"
   ]
  },
  {
   "cell_type": "markdown",
   "metadata": {},
   "source": [
    "<hr style=\"height:5px; text-align:bottom\">\n",
    "\n",
    "# Run The Cells Below\n",
    "Run the cells below in sequence from top to bottom. Upon running the cell which initializes the required classes, a control widget and a pop-up containing data plots will appear.\n",
    "\n",
    "To execute a cell:\n",
    "1. Select the cell you wish to run by clicking the white space surrounding it. A blue border will appear around the cell.\n",
    "\n",
    "    <img src=\"images/jupyter_cell_selected.PNG\" alt=\"Jupyter Cell Selected\"/>\n",
    "\n",
    "2. Click the <strong>Run</strong> button at the top of the notebook to run the selected cell. Alternatively, you can use the CTRL+Enter keyboard combination to run the selected cell.\n",
    "    - You can run the cells with markdown code in them, they have no effect on the program\n",
    "    \n",
    "3. After the cell has been run, a number indicating the current execution step will be inserted between the brackets on the left side of the cell.\n",
    "\n",
    "    <img src=\"images/jupyter_cell_executed.PNG\" alt=\"Jupyter Cell Executed\"/>\n",
    "    \n",
    "    - Occasionally, after running the cell an asterisk may appear instead of a number, this indicates the cell is busy. Simply run the cell again to force/continue code execution.\n",
    "\n",
    "    <img src=\"images/jupyter_cell_busy.PNG\" alt=\"Jupyter Cell Busy\"/>\n",
    "\n",
    "\n",
    "If you make a mistake or run into problems, click <strong>Kernel -> Restart & Clear Output</strong> in the toolbar at the top of the page and start again. This clears the kernel of any variables or functions that may have been created in the previous program.\n",
    "\n",
    "<hr style=\"height:1px\">\n",
    "\n",
    "## Modifying the AD7124 On-Chip Registers\n",
    "\n",
    "1.Restart the kernel and clear the output by clicking <strong>Kernel -> Restart & Clear Output</strong> in the toolbar at the top of the page. This clears the kernel of any variables or functions that may have been created in the previous program.\n",
    "\n",
    "2.Create a copy of the ad7124_default_config.py file and name it 'ad7124_custom_config.py'. This newly created file will be used for all of the custom modification you would like to make."
   ]
  },
  {
   "cell_type": "code",
   "execution_count": null,
   "metadata": {},
   "outputs": [],
   "source": [
    "import shutil\n",
    "\n",
    "shutil.copy2('ad7124_default_config.py', 'ad7124_custom_config.py')"
   ]
  },
  {
   "cell_type": "markdown",
   "metadata": {},
   "source": [
    "3.Modify the default values for the AD7124 registers as needed, following the  [AD7124 datasheet](https://www.analog.com/media/en/technical-documentation/data-sheets/ad7124-8.pdf) for reference\n",
    "\n",
    "##### A. First we need to import the Serial and Data modules required for the demo. We will also set the Matplotlib backend to provide a pop-up window for our data plots"
   ]
  },
  {
   "cell_type": "code",
   "execution_count": null,
   "metadata": {},
   "outputs": [],
   "source": [
    "from safari_serial import Serial\n",
    "from safari_data import Data\n",
    "\n",
    "# Set the TkAgg backend for matplotlib\n",
    "%matplotlib tk"
   ]
  },
  {
   "cell_type": "markdown",
   "metadata": {},
   "source": [
    "4.Next we need to update the config file, this is done by simply passing the name of the custom configuration file to the Serial class when it is initialized. This is done for you in the cell below.\n",
    "\n",
    "<span style='color:red'><strong>You should modify the 'channels' data structure according to your AD7124 configuration and application needs. The 'channels' structure used below is for reference only</strong></span>\n",
    "\n",
    "To edit the cell click inside it. The border will turn green.\n",
    "\n",
    "After you run the cell you will be prompted to select the COM port that is connected to the Meerkat. Please refer to the [Identify COM Port](https://github.com/ArrowElectronics/arrow-safari/wiki/Running-Demo-in-Jupyter-Notebook#2-identify-com-port) section of the wiki for instructions.\n",
    "\n",
    "<span style='color:red'><strong>Please note that the configuration file will be written to the board once the connect button is clicked.</strong></span>"
   ]
  },
  {
   "cell_type": "code",
   "execution_count": null,
   "metadata": {},
   "outputs": [],
   "source": [
    "from safari_serial import Serial\n",
    "from safari_data import Data\n",
    "\n",
    "# Set the TkAgg backend for matplotlib\n",
    "%matplotlib tk\n",
    "\n",
    "# Add entries for each enabled channel. For example if you only enabled channel 5 in your custom configuration:\n",
    "channels = {\"0\":{}}\n",
    "\n",
    "#default fields for each channel\n",
    "for channel in channels:\n",
    "    channels[channel][\"max_elements\"] = 300\n",
    "    channels[channel][\"timestamps\"]=[]\n",
    "    channels[channel][\"voltages\"]=[]\n",
    "    channels[channel][\"values\"]=[]\n",
    "    channels[channel][\"axis\"] = None\n",
    "    channels[channel][\"annotation\"] = None\n",
    "    channels[channel][\"annotation_visible\"] = False\n",
    "    channels[channel][\"annotation_text\"] = \"\"\n",
    "    channels[channel][\"line\"] = None\n",
    "    channels[channel][\"annot_ax_xy\"] = None\n",
    "    channels[channel][\"axes_color\"] = 'k'\n",
    "    channels[channel][\"plot_title\"] = f\"Channel {channel}\"\n",
    "    channels[channel][\"y_label\"] = \"\"\n",
    "    channels[channel][\"y_label_converted\"] = \"\"\n",
    "    channels[channel][\"voltage_format_func\"] = None\n",
    "    channels[channel][\"value_conversion_func\"] = None\n",
    "    \n",
    "# Function for converting channel 0 voltage to an accelerometer value\n",
    "def convert_accelerometer(voltage, code):\n",
    "    del code\n",
    "    \n",
    "    vcc = 3.3\n",
    "    return round((voltage - vcc / 2) * 1 / 0.640, 3)\n",
    "    \n",
    "# Sample Configuration Channel 0 - Configure according to your application\n",
    "channels[\"0\"][\"axes_color\"] = 'tab:blue'\n",
    "channels[\"0\"][\"plot_title\"] = \"Channel 0\"\n",
    "channels[\"0\"][\"y_label\"] = 'Voltage (V)'\n",
    "channels[\"0\"][\"y_label_converted\"] = 'Accel. (g)'\n",
    "channels[\"0\"][\"value_conversion_func\"] = convert_accelerometer\n",
    "\n",
    "serial = Serial(channels, 'ad7124_custom_config.py')\n",
    "data = Data(channels)"
   ]
  },
  {
   "cell_type": "markdown",
   "metadata": {},
   "source": [
    "5.It is good practice to update the AD7124 python driver (ad7124.py) as well as the data collection application (safari.py) on the Meerkat as well. Execute the below cells <strong>AFTER</strong> successfully connecting the serial port."
   ]
  },
  {
   "cell_type": "code",
   "execution_count": null,
   "metadata": {},
   "outputs": [],
   "source": [
    "serial.write_file_to_meerkat(\"ad7124.py\", \"ad7124.py\")"
   ]
  },
  {
   "cell_type": "code",
   "execution_count": null,
   "metadata": {},
   "outputs": [],
   "source": [
    "serial.write_file_to_meerkat(\"safari.py\", \"safari.py\")"
   ]
  },
  {
   "cell_type": "markdown",
   "metadata": {},
   "source": [
    "6.Once you are finished running the demo, shutdown the kernel by clicking <strong>Kernel -> Shutdown</strong> in the toolbar at the top of the page."
   ]
  }
 ],
 "metadata": {
  "kernelspec": {
   "display_name": "Python 3",
   "language": "python",
   "name": "python3"
  },
  "language_info": {
   "codemirror_mode": {
    "name": "ipython",
    "version": 3
   },
   "file_extension": ".py",
   "mimetype": "text/x-python",
   "name": "python",
   "nbconvert_exporter": "python",
   "pygments_lexer": "ipython3",
   "version": "3.6.10"
  }
 },
 "nbformat": 4,
 "nbformat_minor": 2
}
